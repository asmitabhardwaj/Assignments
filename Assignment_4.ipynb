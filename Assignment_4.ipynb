{
 "cells": [
  {
   "cell_type": "markdown",
   "id": "9c4f49ac",
   "metadata": {},
   "source": [
    "1. What exactly is []?"
   ]
  },
  {
   "cell_type": "code",
   "execution_count": 1,
   "id": "9c39f0c1",
   "metadata": {},
   "outputs": [],
   "source": [
    "#[] is list data structure in python"
   ]
  },
  {
   "cell_type": "markdown",
   "id": "6d20f830",
   "metadata": {},
   "source": [
    "2. In a list of values stored in a variable called spam, how would you assign the value &#39;hello&#39; as the\n",
    "third value? (Assume [2, 4, 6, 8, 10] are in spam.)"
   ]
  },
  {
   "cell_type": "code",
   "execution_count": 5,
   "id": "f9166683",
   "metadata": {},
   "outputs": [
    {
     "data": {
      "text/plain": [
       "[2, 4, 'hello', 6, 8, 10]"
      ]
     },
     "execution_count": 5,
     "metadata": {},
     "output_type": "execute_result"
    }
   ],
   "source": [
    "spam=[2, 4, 6, 8, 10]\n",
    "spam.insert(2,'hello')\n",
    "spam\n",
    "#here 2 is the index "
   ]
  },
  {
   "cell_type": "code",
   "execution_count": 7,
   "id": "b4bbee25",
   "metadata": {},
   "outputs": [
    {
     "data": {
      "text/plain": [
       "'d'"
      ]
     },
     "execution_count": 7,
     "metadata": {},
     "output_type": "execute_result"
    }
   ],
   "source": [
    "#Let&#39;s pretend the spam includes the list ['a','b','c','d'] for the next three queries.\n",
    "#3. What is the value of spam[int(int('3' * 2) / 11)]?\n",
    "s= ['a','b','c','d']\n",
    "s[int(int('3' * 2) / 11)]"
   ]
  },
  {
   "cell_type": "markdown",
   "id": "366d2fa6",
   "metadata": {},
   "source": [
    "4. What is the value of spam[-1]?"
   ]
  },
  {
   "cell_type": "code",
   "execution_count": 8,
   "id": "dc56862d",
   "metadata": {},
   "outputs": [
    {
     "data": {
      "text/plain": [
       "'d'"
      ]
     },
     "execution_count": 8,
     "metadata": {},
     "output_type": "execute_result"
    }
   ],
   "source": [
    "# last element 'd'\n",
    "s[-1]"
   ]
  },
  {
   "cell_type": "markdown",
   "id": "1e9bff9f",
   "metadata": {},
   "source": [
    "5. What is the value of spam[:2]?"
   ]
  },
  {
   "cell_type": "code",
   "execution_count": 9,
   "id": "bc645442",
   "metadata": {},
   "outputs": [
    {
     "data": {
      "text/plain": [
       "['a', 'b']"
      ]
     },
     "execution_count": 9,
     "metadata": {},
     "output_type": "execute_result"
    }
   ],
   "source": [
    "# 'a','b'\n",
    "s[:2]"
   ]
  },
  {
   "cell_type": "code",
   "execution_count": 11,
   "id": "9c9f7720",
   "metadata": {},
   "outputs": [],
   "source": [
    "#Lets pretend bacon has the list [3.14,'cat',11, 'cat', True] for the next three questions.\n",
    "#What is the value of bacon.index('cat')?"
   ]
  },
  {
   "cell_type": "code",
   "execution_count": 12,
   "id": "76647ab3",
   "metadata": {},
   "outputs": [
    {
     "data": {
      "text/plain": [
       "1"
      ]
     },
     "execution_count": 12,
     "metadata": {},
     "output_type": "execute_result"
    }
   ],
   "source": [
    "bacon=[3.14,'cat',11, 'cat', True]\n",
    "bacon.index('cat')"
   ]
  },
  {
   "cell_type": "markdown",
   "id": "74251e58",
   "metadata": {},
   "source": [
    "7. How does bacon.append(99) change the look of the list value in bacon?"
   ]
  },
  {
   "cell_type": "code",
   "execution_count": 25,
   "id": "e056c900",
   "metadata": {},
   "outputs": [
    {
     "data": {
      "text/plain": [
       "[3.14, 'cat', 11, 'cat', True, 99]"
      ]
     },
     "execution_count": 25,
     "metadata": {},
     "output_type": "execute_result"
    }
   ],
   "source": [
    "bacon=[3.14,'cat',11, 'cat', True]\n",
    "bacon.append(99)\n",
    "#output=[3.14,'cat',11, 'cat', True,99]\n",
    "bacon"
   ]
  },
  {
   "cell_type": "markdown",
   "id": "426ca86b",
   "metadata": {},
   "source": [
    "8. How does bacon.remove(&#39;cat&#39;) change the look of the list in bacon?"
   ]
  },
  {
   "cell_type": "code",
   "execution_count": 26,
   "id": "e17ddcf1",
   "metadata": {},
   "outputs": [
    {
     "data": {
      "text/plain": [
       "[3.14, 11, 'cat', True]"
      ]
     },
     "execution_count": 26,
     "metadata": {},
     "output_type": "execute_result"
    }
   ],
   "source": [
    "bacon=[3.14,'cat',11, 'cat', True]\n",
    "bacon.remove('cat')\n",
    "#it will remove cat from index 1\n",
    "bacon"
   ]
  },
  {
   "cell_type": "markdown",
   "id": "8b827009",
   "metadata": {},
   "source": [
    "9. What are the list concatenation and list replication operators?"
   ]
  },
  {
   "cell_type": "code",
   "execution_count": 29,
   "id": "0fe7216e",
   "metadata": {},
   "outputs": [],
   "source": [
    "#list concatenation operator is  '+'\n",
    "#list replication operator is '*'"
   ]
  },
  {
   "cell_type": "markdown",
   "id": "7caecf41",
   "metadata": {},
   "source": [
    "10. What is difference between the list methods append() and insert()?"
   ]
  },
  {
   "cell_type": "code",
   "execution_count": 30,
   "id": "20fd9408",
   "metadata": {},
   "outputs": [],
   "source": [
    "#append()  --append method adds element at the end of the list ,append takes only one parameter \n",
    "    #EXAMPLE-- b.append(99),it will add 99  as a lat element of list b\n",
    "\n",
    "#insert()--- insert add element at any position .insert method takes two parameters.\n",
    "    #Example b.insert(2,'a') it will add element 'a' at 2nd index of list b"
   ]
  },
  {
   "cell_type": "markdown",
   "id": "563b26dd",
   "metadata": {},
   "source": [
    "11. What are the two methods for removing items from a list?"
   ]
  },
  {
   "cell_type": "code",
   "execution_count": 31,
   "id": "609c4b09",
   "metadata": {},
   "outputs": [],
   "source": [
    "#remove()----It helps to remove the very first given element matching from the list\n",
    "\n",
    "#pop()----The pop() method removes an element from the list based on the index given."
   ]
  },
  {
   "cell_type": "markdown",
   "id": "32c9a0c5",
   "metadata": {},
   "source": [
    "12. Describe how list values and string values are identical."
   ]
  },
  {
   "cell_type": "code",
   "execution_count": 32,
   "id": "4bdeb8f3",
   "metadata": {},
   "outputs": [],
   "source": [
    "#strings and lists have lengths.\n",
    "#A string's length is the number of characters in the string. \n",
    "#A list's length is the number of items in the list. \n",
    "#Each character in a string as well as each item in a list has a position, also called an index."
   ]
  },
  {
   "cell_type": "markdown",
   "id": "3b619601",
   "metadata": {},
   "source": [
    "13. What's the difference between tuples and lists?"
   ]
  },
  {
   "cell_type": "code",
   "execution_count": 33,
   "id": "f99f1977",
   "metadata": {},
   "outputs": [],
   "source": [
    "# Python lists is used  to store data of multiple types simultaneously.\n",
    "#Lists are dynamic,mutable.\n",
    "#An index is used to traverse a list.\n",
    "#list syntax : a=[1,,3,6]\n",
    "\n",
    "#Tuples are used to store heterogeneous and homogeneous data.\n",
    "#Tuples are immutable in nature.\n",
    "#Tuple syntax: a=(1,2,3)"
   ]
  },
  {
   "cell_type": "markdown",
   "id": "70daa3ae",
   "metadata": {},
   "source": [
    "14. How do you type a tuple value that only contains the integer 42?"
   ]
  },
  {
   "cell_type": "code",
   "execution_count": 36,
   "id": "1829bcb0",
   "metadata": {},
   "outputs": [
    {
     "data": {
      "text/plain": [
       "tuple"
      ]
     },
     "execution_count": 36,
     "metadata": {},
     "output_type": "execute_result"
    }
   ],
   "source": [
    "a=(42,)\n",
    "type(a)"
   ]
  },
  {
   "cell_type": "markdown",
   "id": "fceb3d28",
   "metadata": {},
   "source": [
    "15. How do you get a list value&#39;s tuple form? How do you get a tuple value&#39;s list form?"
   ]
  },
  {
   "cell_type": "code",
   "execution_count": 38,
   "id": "4971064f",
   "metadata": {},
   "outputs": [],
   "source": [
    "#Using the tuple() built-in function\n",
    "#An iterable can be passed as an input to the tuple () function, which will convert it to a tuple object."
   ]
  },
  {
   "cell_type": "markdown",
   "id": "c03e289a",
   "metadata": {},
   "source": [
    "16. Variables that &quot;contain&quot; list values are not necessarily lists themselves. Instead, what do they\n",
    "contain?"
   ]
  },
  {
   "cell_type": "code",
   "execution_count": 39,
   "id": "13613d2c",
   "metadata": {},
   "outputs": [],
   "source": [
    "#Variables will contain references to list values rather than list values themselves."
   ]
  },
  {
   "cell_type": "markdown",
   "id": "16983994",
   "metadata": {},
   "source": [
    "17. How do you distinguish between copy.copy() and copy.deepcopy()?"
   ]
  },
  {
   "cell_type": "code",
   "execution_count": 40,
   "id": "bd9bc99f",
   "metadata": {},
   "outputs": [],
   "source": [
    "#The copy() returns a shallow copy of the list, and deepcopy() returns a deep copy of the list.\n",
    "#In the case of deep copy, a copy of the object is copied into another object. \n",
    "#It means that any changes made to a copy of the object do not reflect in the original object. \n",
    " \n",
    "    #In the case of shallow copy, a reference of an object is copied into another object. \n",
    "    #It means that any changes made to a copy of an object do reflect in the original object. \n",
    "    #In python, this is implemented using the “copy()” function. "
   ]
  },
  {
   "cell_type": "code",
   "execution_count": null,
   "id": "f6379f45",
   "metadata": {},
   "outputs": [],
   "source": []
  }
 ],
 "metadata": {
  "kernelspec": {
   "display_name": "Python 3",
   "language": "python",
   "name": "python3"
  },
  "language_info": {
   "codemirror_mode": {
    "name": "ipython",
    "version": 3
   },
   "file_extension": ".py",
   "mimetype": "text/x-python",
   "name": "python",
   "nbconvert_exporter": "python",
   "pygments_lexer": "ipython3",
   "version": "3.8.8"
  }
 },
 "nbformat": 4,
 "nbformat_minor": 5
}
