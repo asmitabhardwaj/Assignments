{
 "cells": [
  {
   "cell_type": "markdown",
   "id": "3ed380c5",
   "metadata": {},
   "source": [
    "1. Why are functions advantageous to have in your programs?"
   ]
  },
  {
   "cell_type": "code",
   "execution_count": 2,
   "id": "d5898062",
   "metadata": {},
   "outputs": [],
   "source": [
    "#The use of functions makes a program more readable and reusable. \n",
    "#It's frequently difficult to read a large program so that it breaks the code down into smaller functions and keeps\n",
    "#keeps the program structured, understandable, and reusable.\n"
   ]
  },
  {
   "cell_type": "markdown",
   "id": "97300de9",
   "metadata": {},
   "source": [
    "2. When does the code in a function run: when it is specified or when it is called?"
   ]
  },
  {
   "cell_type": "code",
   "execution_count": 3,
   "id": "95ab6513",
   "metadata": {},
   "outputs": [],
   "source": [
    "# When the function is called"
   ]
  },
  {
   "cell_type": "markdown",
   "id": "e71debc2",
   "metadata": {},
   "source": [
    "3. What statement creates a function?"
   ]
  },
  {
   "cell_type": "code",
   "execution_count": 4,
   "id": "24f07cb2",
   "metadata": {},
   "outputs": [
    {
     "name": "stdout",
     "output_type": "stream",
     "text": [
      "42\n"
     ]
    }
   ],
   "source": [
    "#def keyword is used to create a function\n",
    "def mul(x,y):\n",
    "    return(x*y)\n",
    "print(mul(6,7))"
   ]
  },
  {
   "cell_type": "markdown",
   "id": "94af6fdc",
   "metadata": {},
   "source": [
    "4. What is the difference between a function and a function call?"
   ]
  },
  {
   "cell_type": "code",
   "execution_count": 5,
   "id": "9d36b027",
   "metadata": {},
   "outputs": [],
   "source": [
    "#A function is a block of code that does a particular operation and returns a result.\n",
    "#A function call is the code used to pass control to a function."
   ]
  },
  {
   "cell_type": "markdown",
   "id": "9201fed2",
   "metadata": {},
   "source": [
    "5. How many global scopes are there in a Python program? How many local scopes?"
   ]
  },
  {
   "cell_type": "code",
   "execution_count": 6,
   "id": "ba6194a7",
   "metadata": {},
   "outputs": [],
   "source": [
    "#There's only one global Python scope per program execution.\n",
    "#This scope remains in existence until the program terminates and all its names are forgotten.\n",
    "#the next time you were to run the program, the names would remember their values from the previous run.\n",
    "\n",
    "\n",
    "#There is only one local scope in python\n",
    "#A variable created inside a function belongs to the local scope of that function, and can only be used inside that function."
   ]
  },
  {
   "cell_type": "markdown",
   "id": "122c053d",
   "metadata": {},
   "source": [
    "6. What happens to variables in a local scope when the function call returns?"
   ]
  },
  {
   "cell_type": "code",
   "execution_count": null,
   "id": "baf5b2c3",
   "metadata": {},
   "outputs": [],
   "source": [
    "#Each call of the function creates new local variables, and their lifetimes expire when the function returns to the caller."
   ]
  },
  {
   "cell_type": "markdown",
   "id": "8921ba46",
   "metadata": {},
   "source": [
    "7. What is the concept of a return value? Is it possible to have a return value in an expression?"
   ]
  },
  {
   "cell_type": "code",
   "execution_count": 7,
   "id": "668737b8",
   "metadata": {},
   "outputs": [],
   "source": [
    "#A return is a value that function gives to calling script after completion of its task."
   ]
  },
  {
   "cell_type": "markdown",
   "id": "0068dc83",
   "metadata": {},
   "source": [
    "8. If a function does not have a return statement, what is the return value of a call to that function?"
   ]
  },
  {
   "cell_type": "code",
   "execution_count": 8,
   "id": "02431a55",
   "metadata": {},
   "outputs": [],
   "source": [
    "#If a function does not have a return statemen \n",
    "#then Python will implicitly return a default value for you. That default return value will always be None ."
   ]
  },
  {
   "cell_type": "markdown",
   "id": "bafa8cfd",
   "metadata": {},
   "source": [
    "9. How do you make a function variable refer to the global variable?"
   ]
  },
  {
   "cell_type": "code",
   "execution_count": 9,
   "id": "bc84c799",
   "metadata": {},
   "outputs": [],
   "source": [
    "#We can use a global keyword to make a function variable refer to the global variable."
   ]
  },
  {
   "cell_type": "markdown",
   "id": "4d547a33",
   "metadata": {},
   "source": [
    "10. What is the data type of None?"
   ]
  },
  {
   "cell_type": "code",
   "execution_count": 11,
   "id": "44f6af9f",
   "metadata": {},
   "outputs": [
    {
     "data": {
      "text/plain": [
       "NoneType"
      ]
     },
     "execution_count": 11,
     "metadata": {},
     "output_type": "execute_result"
    }
   ],
   "source": [
    "#The datatype og None is Nonetype.\n",
    "type(None)"
   ]
  },
  {
   "cell_type": "markdown",
   "id": "7fdf3408",
   "metadata": {},
   "source": [
    "11. What does the sentence import areallyourpetsnamederic do?"
   ]
  },
  {
   "cell_type": "code",
   "execution_count": 12,
   "id": "824b87b0",
   "metadata": {},
   "outputs": [],
   "source": [
    "#That import areallyourpetsnamederic statement imports a module named areallyourpetsnamederic."
   ]
  },
  {
   "cell_type": "markdown",
   "id": "01c6d082",
   "metadata": {},
   "source": [
    "12. If you had a bacon() feature in a spam module, what would you call it after importing spam?"
   ]
  },
  {
   "cell_type": "code",
   "execution_count": 13,
   "id": "6de3cd78",
   "metadata": {},
   "outputs": [],
   "source": [
    "#spam.bacon()"
   ]
  },
  {
   "cell_type": "markdown",
   "id": "76b8ae13",
   "metadata": {},
   "source": [
    "13. What can you do to save a programme from crashing if it encounters an error?"
   ]
  },
  {
   "cell_type": "code",
   "execution_count": 14,
   "id": "d214c122",
   "metadata": {},
   "outputs": [],
   "source": [
    "# We can use a try block to to save a programme from crashing if it encounters an error. "
   ]
  },
  {
   "cell_type": "markdown",
   "id": "dd31e5cb",
   "metadata": {},
   "source": [
    "14. What is the purpose of the try clause? What is the purpose of the except clause?"
   ]
  },
  {
   "cell_type": "code",
   "execution_count": null,
   "id": "907219dd",
   "metadata": {},
   "outputs": [],
   "source": [
    "# The try block let us test a block of code for errors.\n",
    "\n",
    "#The except block let us handle the error."
   ]
  }
 ],
 "metadata": {
  "kernelspec": {
   "display_name": "Python 3",
   "language": "python",
   "name": "python3"
  },
  "language_info": {
   "codemirror_mode": {
    "name": "ipython",
    "version": 3
   },
   "file_extension": ".py",
   "mimetype": "text/x-python",
   "name": "python",
   "nbconvert_exporter": "python",
   "pygments_lexer": "ipython3",
   "version": "3.8.8"
  }
 },
 "nbformat": 4,
 "nbformat_minor": 5
}
