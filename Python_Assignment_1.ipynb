{
 "cells": [
  {
   "cell_type": "markdown",
   "id": "2dd83eec",
   "metadata": {},
   "source": [
    "# Python Assignment 1"
   ]
  },
  {
   "cell_type": "code",
   "execution_count": 1,
   "id": "a72ff9bd",
   "metadata": {},
   "outputs": [],
   "source": [
    "#1. In the below elements which of them are values or an expression?"
   ]
  },
  {
   "cell_type": "markdown",
   "id": "3644634a",
   "metadata": {},
   "source": [
    "Values are: 'hello' ,-87.8 , 6 "
   ]
  },
  {
   "cell_type": "markdown",
   "id": "8e55e7bb",
   "metadata": {},
   "source": [
    "expressions are: * , - , + , /"
   ]
  },
  {
   "cell_type": "markdown",
   "id": "8ea9e2cc",
   "metadata": {},
   "source": [
    "As all the mathematical values comes under expression and all the string or integer will be values"
   ]
  },
  {
   "cell_type": "code",
   "execution_count": 3,
   "id": "9117b490",
   "metadata": {},
   "outputs": [],
   "source": [
    "#2. What is the difference between string and variable?"
   ]
  },
  {
   "cell_type": "markdown",
   "id": "6d62aa04",
   "metadata": {},
   "source": [
    "A variable is used to store the information in the program .A variable can store any datatype."
   ]
  },
  {
   "cell_type": "markdown",
   "id": "2f829189",
   "metadata": {},
   "source": [
    "A String is a type of information which is stored into a variable.String is used to represent a text datatype."
   ]
  },
  {
   "cell_type": "markdown",
   "id": "f44b307e",
   "metadata": {},
   "source": [
    "A string is usually words inclosed with double (\"\") or single ('') quotes."
   ]
  },
  {
   "cell_type": "markdown",
   "id": "addff8d8",
   "metadata": {},
   "source": [
    "For Example :- X = \"Book\" Here X is a variable which stores the information Book and Book is a string enclosed in double quotes."
   ]
  },
  {
   "cell_type": "code",
   "execution_count": 4,
   "id": "08406e42",
   "metadata": {},
   "outputs": [],
   "source": [
    "#3. Describe three different data types."
   ]
  },
  {
   "cell_type": "markdown",
   "id": "b0fb8e19",
   "metadata": {},
   "source": [
    "3  Datatypes in Python are Numeric, String and Boolean"
   ]
  },
  {
   "cell_type": "markdown",
   "id": "e1ca0113",
   "metadata": {},
   "source": [
    "Numeric- Numeric data type contains any numeric data like integers or float data.\n",
    "        Ex: X=0.2 ,Y= 88 Both X & Y have numeric data type."
   ]
  },
  {
   "cell_type": "markdown",
   "id": "ee81f972",
   "metadata": {},
   "source": [
    "String -Strings are sequences of character data. A string is usually words inclosed with double (\"\") or single ('') quotes.\n",
    "        Ex: S=\"Sweets\",Here S has string data type."
   ]
  },
  {
   "cell_type": "markdown",
   "id": "d2aae221",
   "metadata": {},
   "source": [
    "Boolean - The Boolean data type can have only 2 values(True or False)\n",
    "        Ex: B = True ,Here the datatype of B is Boolean ."
   ]
  },
  {
   "cell_type": "code",
   "execution_count": 5,
   "id": "06d3763b",
   "metadata": {},
   "outputs": [],
   "source": [
    "#4. What is an expression made up of? What do all expressions do?"
   ]
  },
  {
   "cell_type": "markdown",
   "id": "9d919ced",
   "metadata": {},
   "source": [
    "An expression is  made up of operators and operands."
   ]
  },
  {
   "cell_type": "markdown",
   "id": "b10afb38",
   "metadata": {},
   "source": [
    "Expression is interpreted to produce some other value."
   ]
  },
  {
   "cell_type": "markdown",
   "id": "50c30ac0",
   "metadata": {},
   "source": [
    "Ex: X = a+b-7\n",
    "    Here a+b-7  is an expression ,+,- are operators and a,b & 7 are operands"
   ]
  },
  {
   "cell_type": "code",
   "execution_count": null,
   "id": "138dbfe1",
   "metadata": {},
   "outputs": [],
   "source": [
    "#5. This assignment statements, like spam = 10. What is the difference between an expression and a statement?"
   ]
  },
  {
   "cell_type": "markdown",
   "id": "0f749617",
   "metadata": {},
   "source": [
    "Expressions produce a value, and that value will be passed into the function.\n",
    "spam = 10 is an expression here as spam  produces a value 10"
   ]
  },
  {
   "cell_type": "markdown",
   "id": "8507da10",
   "metadata": {},
   "source": [
    "Statements don't produce a value, and so they can't be used as function arguments.Its a action or a command that does something. Ex: If-Else,Loops..etc"
   ]
  },
  {
   "cell_type": "code",
   "execution_count": 6,
   "id": "806a4a6c",
   "metadata": {},
   "outputs": [
    {
     "data": {
      "text/plain": [
       "23"
      ]
     },
     "execution_count": 6,
     "metadata": {},
     "output_type": "execute_result"
    }
   ],
   "source": [
    "#6. After running the following code, what does the variable bacon contain?\n",
    "bacon = 22\n",
    "bacon + 1"
   ]
  },
  {
   "cell_type": "markdown",
   "id": "facea62e",
   "metadata": {},
   "source": [
    "Here the variable bacon contains the value 23 after running the command."
   ]
  },
  {
   "cell_type": "code",
   "execution_count": 9,
   "id": "8e934240",
   "metadata": {},
   "outputs": [
    {
     "data": {
      "text/plain": [
       "'spamspamspam'"
      ]
     },
     "execution_count": 9,
     "metadata": {},
     "output_type": "execute_result"
    }
   ],
   "source": [
    "#7. What should the values of the following two terms be?\n",
    "'spam'+'spamspam'\n",
    "#'spam'*3"
   ]
  },
  {
   "cell_type": "code",
   "execution_count": 8,
   "id": "4f4d88e6",
   "metadata": {},
   "outputs": [
    {
     "data": {
      "text/plain": [
       "'spamspamspam'"
      ]
     },
     "execution_count": 8,
     "metadata": {},
     "output_type": "execute_result"
    }
   ],
   "source": [
    "'spam'*3"
   ]
  },
  {
   "cell_type": "markdown",
   "id": "abd2a5f0",
   "metadata": {},
   "source": [
    "The output of both the terms will be 'spamspamspam'"
   ]
  },
  {
   "cell_type": "code",
   "execution_count": 10,
   "id": "f4d3e217",
   "metadata": {},
   "outputs": [],
   "source": [
    "#8. Why is eggs a valid variable name while 100 is invalid?"
   ]
  },
  {
   "cell_type": "markdown",
   "id": "785d760e",
   "metadata": {},
   "source": [
    "A variable can have a short name (like x and y) or a more descriptive name (age, carname, total_volume)thats why eggs is a valid variable"
   ]
  },
  {
   "cell_type": "markdown",
   "id": "ab6771e6",
   "metadata": {},
   "source": [
    "But a variable cant start with numbers thats why 100 is invalid variable here."
   ]
  },
  {
   "cell_type": "code",
   "execution_count": 11,
   "id": "949d0bad",
   "metadata": {},
   "outputs": [],
   "source": [
    "#9. What three functions can be used to get the integer, floating-point number, or string version of a value?"
   ]
  },
  {
   "cell_type": "markdown",
   "id": "018c25db",
   "metadata": {},
   "source": [
    "The int(),float(),str() can be used to get the integer, floating-point number, or string version of a value"
   ]
  },
  {
   "cell_type": "code",
   "execution_count": 12,
   "id": "6330cee2",
   "metadata": {},
   "outputs": [],
   "source": [
    "#10. Why does this expression cause an error? How can you fix it? 'I have eaten' + 99 +  'burritos'"
   ]
  },
  {
   "cell_type": "code",
   "execution_count": 13,
   "id": "61a5fdec",
   "metadata": {},
   "outputs": [
    {
     "ename": "TypeError",
     "evalue": "can only concatenate str (not \"int\") to str",
     "output_type": "error",
     "traceback": [
      "\u001b[1;31m---------------------------------------------------------------------------\u001b[0m",
      "\u001b[1;31mTypeError\u001b[0m                                 Traceback (most recent call last)",
      "\u001b[1;32m<ipython-input-13-42bd295f5afe>\u001b[0m in \u001b[0;36m<module>\u001b[1;34m\u001b[0m\n\u001b[1;32m----> 1\u001b[1;33m \u001b[1;34m'I have eaten'\u001b[0m \u001b[1;33m+\u001b[0m \u001b[1;36m99\u001b[0m \u001b[1;33m+\u001b[0m  \u001b[1;34m'burritos'\u001b[0m\u001b[1;33m\u001b[0m\u001b[1;33m\u001b[0m\u001b[0m\n\u001b[0m",
      "\u001b[1;31mTypeError\u001b[0m: can only concatenate str (not \"int\") to str"
     ]
    }
   ],
   "source": [
    "'I have eaten' + 99 +  'burritos'"
   ]
  },
  {
   "cell_type": "markdown",
   "id": "05b9dfd5",
   "metadata": {},
   "source": [
    "This expression is causing an error as we can not add different data types at a same time ,for this we have to covert 99 into string ."
   ]
  },
  {
   "cell_type": "code",
   "execution_count": 17,
   "id": "cc7c0d93",
   "metadata": {},
   "outputs": [
    {
     "data": {
      "text/plain": [
       "'I have eaten99burritos'"
      ]
     },
     "execution_count": 17,
     "metadata": {},
     "output_type": "execute_result"
    }
   ],
   "source": [
    "#Just enclose the 99 into quotes\n",
    "'I have eaten' + '99' +  'burritos'"
   ]
  },
  {
   "cell_type": "code",
   "execution_count": 15,
   "id": "dea0a3fa",
   "metadata": {},
   "outputs": [
    {
     "data": {
      "text/plain": [
       "'I have eaten99burritos'"
      ]
     },
     "execution_count": 15,
     "metadata": {},
     "output_type": "execute_result"
    }
   ],
   "source": [
    "#Alternate method typecasting\n",
    "'I have eaten' + str(99) +  'burritos'"
   ]
  },
  {
   "cell_type": "code",
   "execution_count": null,
   "id": "56d60ac0",
   "metadata": {},
   "outputs": [],
   "source": []
  }
 ],
 "metadata": {
  "kernelspec": {
   "display_name": "Python 3",
   "language": "python",
   "name": "python3"
  },
  "language_info": {
   "codemirror_mode": {
    "name": "ipython",
    "version": 3
   },
   "file_extension": ".py",
   "mimetype": "text/x-python",
   "name": "python",
   "nbconvert_exporter": "python",
   "pygments_lexer": "ipython3",
   "version": "3.8.8"
  }
 },
 "nbformat": 4,
 "nbformat_minor": 5
}
