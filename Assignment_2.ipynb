{
 "cells": [
  {
   "cell_type": "markdown",
   "id": "9b0464a6",
   "metadata": {},
   "source": [
    "1.What are the two values of the Boolean data type? How do you write them?\n",
    "Two values of boolean data types are :\n",
    "True \n",
    "False\n",
    " x=False\n",
    "print(type(x))\n",
    "<class 'bool'>"
   ]
  },
  {
   "cell_type": "code",
   "execution_count": 1,
   "id": "3aeb41da",
   "metadata": {},
   "outputs": [
    {
     "name": "stdout",
     "output_type": "stream",
     "text": [
      "<class 'bool'>\n"
     ]
    }
   ],
   "source": [
    "#Two values of boolean data types are : True , False \n",
    "x=False\n",
    "print(type(x))"
   ]
  },
  {
   "cell_type": "markdown",
   "id": "7b5ae8c9",
   "metadata": {},
   "source": [
    "2. What are the three different types of Boolean operators?"
   ]
  },
  {
   "cell_type": "code",
   "execution_count": 2,
   "id": "842c9cfe",
   "metadata": {},
   "outputs": [],
   "source": [
    "#   Three types of Boolean operators are :- AND , OR , NOT"
   ]
  },
  {
   "cell_type": "markdown",
   "id": "2719292b",
   "metadata": {},
   "source": [
    "3. Make a list of each Boolean operator&#39;s truth tables (i.e. every possible combination of Boolean\n",
    "values for the operator and what it evaluate )."
   ]
  },
  {
   "cell_type": "code",
   "execution_count": 3,
   "id": "180d086e",
   "metadata": {},
   "outputs": [],
   "source": [
    "# AND truth table\n",
    "# A  B  C\n",
    "#  1  1  1\n",
    "#  1  0  0\n",
    "#  0  1  0\n",
    "#  0  0  0\n",
    "\n",
    "#OR truth table\n",
    "#A  B  C\n",
    "#1  1  1\n",
    "#1  0  1\n",
    "#0  1  1\n",
    "#0  0  0\n",
    "\n",
    "#not  truth table\n",
    "\n",
    "#A  C\n",
    "#1  0  \n",
    "#0  1  \n",
    "  \n"
   ]
  },
  {
   "cell_type": "markdown",
   "id": "87878de2",
   "metadata": {},
   "source": [
    "#4. What are the values of the following expressions?"
   ]
  },
  {
   "cell_type": "code",
   "execution_count": 4,
   "id": "40b6c1ee",
   "metadata": {},
   "outputs": [],
   "source": [
    "#(5 > 4) and (3 == 5) =False\n",
    "#not (5 > 4)  =False\n",
    "#(5 > 4) or (3 == 5) =True\n",
    "#not ((5 > 4) or (3 == 5)) =False\n",
    "#(True and True) and (True == False) = False\n",
    "#(not False) or (not True)= True"
   ]
  },
  {
   "cell_type": "markdown",
   "id": "3ef2c4d7",
   "metadata": {},
   "source": [
    "5. What are the six comparison operators?"
   ]
  },
  {
   "cell_type": "code",
   "execution_count": 5,
   "id": "49ef193a",
   "metadata": {},
   "outputs": [],
   "source": [
    "#greater than >\n",
    "#less than <\n",
    "#greater than equal to >=\n",
    "#less than equal to <=\n",
    "#equal to ==\n",
    "#not equal to !="
   ]
  },
  {
   "cell_type": "markdown",
   "id": "262cc9fc",
   "metadata": {},
   "source": [
    "6. How do you tell the difference between the equal to and assignment operators?Describe a\n",
    "condition and when you would use one."
   ]
  },
  {
   "cell_type": "code",
   "execution_count": 6,
   "id": "6d321021",
   "metadata": {},
   "outputs": [],
   "source": [
    "#the (=) is assignment operator and (==) is equal to operator.\n",
    "#a=4  the assignment of a is 4 here\n",
    "#a==5 this means both the sides(a and 5) are equal "
   ]
  },
  {
   "cell_type": "markdown",
   "id": "1cb3ad8a",
   "metadata": {},
   "source": [
    "7. Identify the three blocks in this code:"
   ]
  },
  {
   "cell_type": "code",
   "execution_count": 7,
   "id": "d6fa634f",
   "metadata": {},
   "outputs": [],
   "source": [
    "#spam = 0--------- Block one\n",
    "####################\n",
    "#if spam == 10:\n",
    "#print('eggs') ------ Block 2\n",
    "#if spam > 5:\n",
    "#print('bacon')\n",
    "####################\n",
    "#else:\n",
    "#print('ham')\n",
    "#print('spam')-------- Block 3\n",
    "#print('spam')"
   ]
  },
  {
   "cell_type": "markdown",
   "id": "97b86e83",
   "metadata": {},
   "source": [
    "#8. Write code that prints Hello if 1 is stored in spam, prints Howdy if 2 is stored in spam, and prints\n",
    "Greetings! if anything else is stored in spam."
   ]
  },
  {
   "cell_type": "code",
   "execution_count": 8,
   "id": "e872ffa6",
   "metadata": {},
   "outputs": [
    {
     "name": "stdout",
     "output_type": "stream",
     "text": [
      "Howdy\n"
     ]
    }
   ],
   "source": [
    "spam=2\n",
    "if spam ==1:\n",
    "    print(\"HELLO\")\n",
    "elif spam ==2:\n",
    "    print('Howdy')\n",
    "else:\n",
    "    print('Greetings!')"
   ]
  },
  {
   "cell_type": "markdown",
   "id": "10cddb11",
   "metadata": {},
   "source": [
    "9.If your programme is stuck in an endless loop, what keys you’ll press?"
   ]
  },
  {
   "cell_type": "code",
   "execution_count": 9,
   "id": "bfe32b1a",
   "metadata": {},
   "outputs": [],
   "source": [
    "# Control + C"
   ]
  },
  {
   "cell_type": "markdown",
   "id": "5b29d31d",
   "metadata": {},
   "source": [
    "10. How can you tell the difference between break and continue?"
   ]
  },
  {
   "cell_type": "code",
   "execution_count": 16,
   "id": "3821098e",
   "metadata": {},
   "outputs": [
    {
     "name": "stdout",
     "output_type": "stream",
     "text": [
      "0\n",
      "1\n",
      "2\n"
     ]
    }
   ],
   "source": [
    "#break statement can be used  with the for loop to terminate the loop when a certain condition is met. For example,\n",
    "for i in range(5):\n",
    "    if i == 3:\n",
    "        break\n",
    "    print(i)"
   ]
  },
  {
   "cell_type": "code",
   "execution_count": 17,
   "id": "7ca2cb67",
   "metadata": {},
   "outputs": [
    {
     "name": "stdout",
     "output_type": "stream",
     "text": [
      "0\n",
      "1\n",
      "2\n",
      "4\n"
     ]
    }
   ],
   "source": [
    "#Continue statement\n",
    "#The continue statement is used to skip the current iteration of the loop and the control flow of the program \n",
    "#goes to the next iteration.\n",
    "for i in range(5):\n",
    "    if i == 3:\n",
    "        continue\n",
    "    print(i)"
   ]
  },
  {
   "cell_type": "markdown",
   "id": "587d1c27",
   "metadata": {},
   "source": [
    "11. In a for loop, what is the difference between range(10), range(0, 10), and range(0, 10, 1)?"
   ]
  },
  {
   "cell_type": "code",
   "execution_count": 12,
   "id": "307a2ede",
   "metadata": {},
   "outputs": [
    {
     "name": "stdout",
     "output_type": "stream",
     "text": [
      "0\n",
      "1\n",
      "2\n",
      "3\n",
      "4\n",
      "5\n",
      "6\n",
      "7\n",
      "8\n",
      "9\n"
     ]
    }
   ],
   "source": [
    "#in a for loop there is no difference between thse three. All 3 will give the same output\n",
    "for i in range(10):\n",
    "    print(i)"
   ]
  },
  {
   "cell_type": "code",
   "execution_count": 13,
   "id": "55eaca64",
   "metadata": {},
   "outputs": [
    {
     "name": "stdout",
     "output_type": "stream",
     "text": [
      "0\n",
      "1\n",
      "2\n",
      "3\n",
      "4\n",
      "5\n",
      "6\n",
      "7\n",
      "8\n",
      "9\n"
     ]
    }
   ],
   "source": [
    "for i in range(0,10):\n",
    "    print(i)"
   ]
  },
  {
   "cell_type": "code",
   "execution_count": 15,
   "id": "3d16f6bf",
   "metadata": {},
   "outputs": [
    {
     "name": "stdout",
     "output_type": "stream",
     "text": [
      "0\n",
      "1\n",
      "2\n",
      "3\n",
      "4\n",
      "5\n",
      "6\n",
      "7\n",
      "8\n",
      "9\n"
     ]
    }
   ],
   "source": [
    "for i in range(0,10,1):\n",
    "    print(i)\n",
    "    \n",
    "    # As in all three by default range(10) is taking range of 10 with start value 0 and interval off 1 "
   ]
  },
  {
   "cell_type": "markdown",
   "id": "ce463657",
   "metadata": {},
   "source": [
    "12. Write a short program that prints the numbers 1 to 10 using a for loop. Then write an equivalent\n",
    "program that prints the numbers 1 to 10 using a while loop."
   ]
  },
  {
   "cell_type": "code",
   "execution_count": 10,
   "id": "537c2e07",
   "metadata": {},
   "outputs": [
    {
     "name": "stdout",
     "output_type": "stream",
     "text": [
      "1\n",
      "2\n",
      "3\n",
      "4\n",
      "5\n",
      "6\n",
      "7\n",
      "8\n",
      "9\n",
      "10\n"
     ]
    }
   ],
   "source": [
    "for i in range(1,11):\n",
    "    print(i)"
   ]
  },
  {
   "cell_type": "code",
   "execution_count": 11,
   "id": "64f6b5b0",
   "metadata": {},
   "outputs": [
    {
     "name": "stdout",
     "output_type": "stream",
     "text": [
      "1\n",
      "2\n",
      "3\n",
      "4\n",
      "5\n",
      "6\n",
      "7\n",
      "8\n",
      "9\n",
      "10\n"
     ]
    }
   ],
   "source": [
    "i=1\n",
    "while(i<=10):\n",
    "    print(i)\n",
    "    i=i+1"
   ]
  },
  {
   "cell_type": "markdown",
   "id": "5a9c2f1b",
   "metadata": {},
   "source": [
    "13. If you had a function named bacon() inside a module named spam, how would you call it after\n",
    "importing spam?"
   ]
  },
  {
   "cell_type": "code",
   "execution_count": 32,
   "id": "f0254c20",
   "metadata": {},
   "outputs": [],
   "source": [
    "#spam.bacon()"
   ]
  },
  {
   "cell_type": "code",
   "execution_count": null,
   "id": "46bc0e41",
   "metadata": {},
   "outputs": [],
   "source": []
  }
 ],
 "metadata": {
  "kernelspec": {
   "display_name": "Python 3",
   "language": "python",
   "name": "python3"
  },
  "language_info": {
   "codemirror_mode": {
    "name": "ipython",
    "version": 3
   },
   "file_extension": ".py",
   "mimetype": "text/x-python",
   "name": "python",
   "nbconvert_exporter": "python",
   "pygments_lexer": "ipython3",
   "version": "3.8.8"
  }
 },
 "nbformat": 4,
 "nbformat_minor": 5
}
